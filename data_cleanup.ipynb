{
 "cells": [
  {
   "cell_type": "code",
   "execution_count": null,
   "id": "2cff6218",
   "metadata": {},
   "outputs": [],
   "source": []
  }
 ],
 "metadata": {
  "kernelspec": {
   "display_name": "Python [CS373]",
   "language": "python",
   "name": "cs373"
  }
 },
 "nbformat": 4,
 "nbformat_minor": 5
}
