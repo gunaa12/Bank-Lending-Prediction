{
 "cells": [
  {
   "cell_type": "code",
   "execution_count": 22,
   "id": "3f7c9f64",
   "metadata": {},
   "outputs": [],
   "source": [
    "# imports\n",
    "import numpy as np\n",
    "import pandas as pd\n",
    "import pickle\n",
    "from sklearn.ensemble import GradientBoostingClassifier"
   ]
  },
  {
   "cell_type": "code",
   "execution_count": 23,
   "id": "bddaf6a9",
   "metadata": {
    "scrolled": true
   },
   "outputs": [
    {
     "data": {
      "text/plain": [
       "1    776024\n",
       "0    191895\n",
       "Name: loan_paid, dtype: int64"
      ]
     },
     "execution_count": 23,
     "metadata": {},
     "output_type": "execute_result"
    }
   ],
   "source": [
    "# getting the data\n",
    "df = pd.read_csv('data/train_preprocessed_data.csv')\n",
    "pd.set_option('max_columns', None)\n",
    "df['loan_paid'].value_counts()"
   ]
  },
  {
   "cell_type": "code",
   "execution_count": 24,
   "id": "2339ecdf",
   "metadata": {},
   "outputs": [],
   "source": [
    "# setting up data\n",
    "y_train = df['loan_paid'].to_numpy()\n",
    "x_train = df.drop(columns=['loan_paid']).to_numpy()"
   ]
  },
  {
   "cell_type": "code",
   "execution_count": 25,
   "id": "a107d571",
   "metadata": {},
   "outputs": [
    {
     "name": "stdout",
     "output_type": "stream",
     "text": [
      "(array([], dtype=int64), array([], dtype=int64))\n",
      "(array([], dtype=int64),)\n"
     ]
    }
   ],
   "source": [
    "# fixing numpy conversion issues\n",
    "x_train[np.isinf(x_train)] = 0\n",
    "print(np.where(np.isinf(x_train)))\n",
    "\n",
    "print(np.where(np.isinf(y_train)))"
   ]
  },
  {
   "cell_type": "code",
   "execution_count": 26,
   "id": "ba8a5ff2",
   "metadata": {},
   "outputs": [],
   "source": [
    "# getting sample weights\n",
    "with open('models/sample_weights.pickle', 'rb') as handle:\n",
    "    sample_weights = pickle.load(handle)"
   ]
  },
  {
   "cell_type": "code",
   "execution_count": 27,
   "id": "8160532b",
   "metadata": {},
   "outputs": [
    {
     "data": {
      "text/plain": [
       "GradientBoostingClassifier(max_depth=2, n_estimators=250, subsample=1)"
      ]
     },
     "execution_count": 27,
     "metadata": {},
     "output_type": "execute_result"
    }
   ],
   "source": [
    "# gradient boosted classfier model\n",
    "model = GradientBoostingClassifier(n_estimators=250, max_depth=2, subsample=1)\n",
    "model.fit(x_train, y_train, sample_weights)"
   ]
  },
  {
   "cell_type": "code",
   "execution_count": 28,
   "id": "8a629adf",
   "metadata": {},
   "outputs": [
    {
     "name": "stdout",
     "output_type": "stream",
     "text": [
      "Accuracy on training data: 0.8040528184693141\n"
     ]
    }
   ],
   "source": [
    "# testing accuracy on training data\n",
    "print(\"Accuracy on training data:\", model.score(x_train, y_train))"
   ]
  },
  {
   "cell_type": "code",
   "execution_count": 29,
   "id": "4d5dc0a1",
   "metadata": {},
   "outputs": [],
   "source": [
    "# getting validation input\n",
    "x_val = pd.read_csv('data/predict_preprocessed_data.csv')\n",
    "x_val_id = x_val['ID']\n",
    "x_val = x_val.drop(columns=['ID'])"
   ]
  },
  {
   "cell_type": "code",
   "execution_count": 30,
   "id": "296348a7",
   "metadata": {
    "scrolled": true
   },
   "outputs": [
    {
     "name": "stdout",
     "output_type": "stream",
     "text": [
      "(array([140519]), array([12]))\n"
     ]
    },
    {
     "data": {
      "text/plain": [
       "(array([], dtype=int64), array([], dtype=int64))"
      ]
     },
     "execution_count": 30,
     "metadata": {},
     "output_type": "execute_result"
    }
   ],
   "source": [
    "# converting to np array\n",
    "x_val = x_val.to_numpy()\n",
    "print(np.where(np.isinf(x_val)))\n",
    "x_val[np.isinf(x_val)] = 0\n",
    "np.where(np.isinf(x_val))"
   ]
  },
  {
   "cell_type": "code",
   "execution_count": 31,
   "id": "7d2f7a84",
   "metadata": {},
   "outputs": [],
   "source": [
    "# getting predictions\n",
    "pred = model.predict(x_val)"
   ]
  },
  {
   "cell_type": "code",
   "execution_count": 32,
   "id": "b639bbca",
   "metadata": {},
   "outputs": [],
   "source": [
    "# creating submission\n",
    "submission = pd.DataFrame()\n",
    "submission['ID'] = x_val_id\n",
    "submission['loan_paid'] = pred\n",
    "submission.to_csv('submissions/pred.csv', index=None)"
   ]
  }
 ],
 "metadata": {
  "kernelspec": {
   "display_name": "Python 3.9 (Default)",
   "language": "python",
   "name": "python3"
  },
  "language_info": {
   "codemirror_mode": {
    "name": "ipython",
    "version": 3
   },
   "file_extension": ".py",
   "mimetype": "text/x-python",
   "name": "python",
   "nbconvert_exporter": "python",
   "pygments_lexer": "ipython3",
   "version": "3.9.7"
  }
 },
 "nbformat": 4,
 "nbformat_minor": 5
}
